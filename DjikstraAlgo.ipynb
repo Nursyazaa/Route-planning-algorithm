{
  "nbformat": 4,
  "nbformat_minor": 0,
  "metadata": {
    "colab": {
      "provenance": [],
      "include_colab_link": true
    },
    "kernelspec": {
      "name": "python3",
      "display_name": "Python 3"
    },
    "language_info": {
      "name": "python"
    }
  },
  "cells": [
    {
      "cell_type": "markdown",
      "metadata": {
        "id": "view-in-github",
        "colab_type": "text"
      },
      "source": [
        "<a href=\"https://colab.research.google.com/github/Nursyazaa/Route-planning-algorithm/blob/main/DjikstraAlgo.ipynb\" target=\"_parent\"><img src=\"https://colab.research.google.com/assets/colab-badge.svg\" alt=\"Open In Colab\"/></a>"
      ]
    },
    {
      "cell_type": "code",
      "source": [
        "import heapq\n",
        "import networkx as nx\n",
        "import matplotlib.pyplot as plt\n",
        "\n",
        "!pip install ipython-autotime\n",
        "\n",
        "%load_ext autotime\n",
        "\n",
        "def shortest_path_dijkstra(graph, start, end):\n",
        "    distances = {node: float('infinity') for node in graph}\n",
        "    distances[start] = 0\n",
        "    queue = [(0, start)]\n",
        "    previous = {start: None}\n",
        "    visited = set()\n",
        "\n",
        "    while queue:\n",
        "        current_distance, current_node = heapq.heappop(queue)\n",
        "        if current_node in visited:\n",
        "            continue\n",
        "        visited.add(current_node)\n",
        "        if current_node == end:\n",
        "            break\n",
        "\n",
        "        for neighbor, weight in graph[current_node].items():\n",
        "            distance = current_distance + weight\n",
        "            if distance < distances[neighbor]:\n",
        "                distances[neighbor] = distance\n",
        "                previous[neighbor] = current_node\n",
        "                heapq.heappush(queue, (distance, neighbor))\n",
        "\n",
        "    shortest_path = []\n",
        "    current_node = end\n",
        "    while current_node:\n",
        "        shortest_path.append(current_node)\n",
        "        current_node = previous.get(current_node)\n",
        "\n",
        "    return shortest_path[::-1]\n",
        "\n",
        "def draw(maps):\n",
        "    g = nx.DiGraph()\n",
        "    color = []\n",
        "    g.add_edge(\"A\", \"C\", weight=\"10 km\")\n",
        "    g.add_edge(\"A\", \"B\", weight=\"7.2 km\")\n",
        "    g.add_edge(\"B\", \"D\", weight=\"6.8 km\")\n",
        "    g.add_edge(\"B\", \"C\", weight=\"8.5 km\")\n",
        "    g.add_edge(\"C\", \"D\", weight=\"3.1 km\")\n",
        "    g.add_edge(\"D\", \"E\", weight=\"1 km\")\n",
        "    color = ['g','b','b','b','r']\n",
        "\n",
        "    pos = nx.shell_layout(g)\n",
        "    edge_labels = { (u,v): d['weight'] for u,v,d in g.edges(data=True) }\n",
        "    nx.draw_networkx_nodes(g,pos,node_size=1000, node_color=color)\n",
        "    nx.draw_networkx_edges(g,pos)\n",
        "    nx.draw_networkx_labels(g,pos)\n",
        "    nx.draw_networkx_edge_labels(g,pos,edge_labels=edge_labels)\n",
        "    plt.title(\"MAPS\")\n",
        "    plt.axis(\"off\")\n",
        "    plt.show()\n",
        "\n",
        "def main():\n",
        "    g = {\n",
        "        \"A\": {\"C\": 10, \"B\": 7.2},\n",
        "        \"B\": {\"D\": 6.8,\"C\": 8.5},\n",
        "        \"C\": {\"D\": 3.1},\n",
        "        \"D\": {\"E\": 1},\n",
        "        \"E\": {}\n",
        "    }\n",
        "\n",
        "    start_node = \"A\"\n",
        "    end_node = \"E\"\n",
        "    shortest_path = shortest_path_dijkstra(g, start_node, end_node)\n",
        "    draw(g)\n",
        "    print(\"Shortest path between {} and {}: {}\".format(start_node, end_node, shortest_path))\n",
        "\n",
        "if __name__ == '__main__':\n",
        "    main()\n"
      ],
      "metadata": {
        "id": "DCyXeZemUpBB",
        "outputId": "70dbe4eb-9238-44cf-dfc1-e69dad6bfb77",
        "colab": {
          "base_uri": "https://localhost:8080/"
        }
      },
      "execution_count": null,
      "outputs": [
        {
          "output_type": "stream",
          "name": "stdout",
          "text": [
            "Looking in indexes: https://pypi.org/simple, https://us-python.pkg.dev/colab-wheels/public/simple/\n",
            "Requirement already satisfied: ipython-autotime in /usr/local/lib/python3.8/dist-packages (0.3.1)\n",
            "Requirement already satisfied: ipython in /usr/local/lib/python3.8/dist-packages (from ipython-autotime) (7.9.0)\n",
            "Requirement already satisfied: pickleshare in /usr/local/lib/python3.8/dist-packages (from ipython->ipython-autotime) (0.7.5)\n",
            "Requirement already satisfied: pygments in /usr/local/lib/python3.8/dist-packages (from ipython->ipython-autotime) (2.6.1)\n",
            "Requirement already satisfied: decorator in /usr/local/lib/python3.8/dist-packages (from ipython->ipython-autotime) (4.4.2)\n",
            "Requirement already satisfied: jedi>=0.10 in /usr/local/lib/python3.8/dist-packages (from ipython->ipython-autotime) (0.18.2)\n",
            "Requirement already satisfied: traitlets>=4.2 in /usr/local/lib/python3.8/dist-packages (from ipython->ipython-autotime) (5.7.1)\n",
            "Requirement already satisfied: pexpect in /usr/local/lib/python3.8/dist-packages (from ipython->ipython-autotime) (4.8.0)\n",
            "Requirement already satisfied: prompt-toolkit<2.1.0,>=2.0.0 in /usr/local/lib/python3.8/dist-packages (from ipython->ipython-autotime) (2.0.10)\n",
            "Requirement already satisfied: backcall in /usr/local/lib/python3.8/dist-packages (from ipython->ipython-autotime) (0.2.0)\n",
            "Requirement already satisfied: setuptools>=18.5 in /usr/local/lib/python3.8/dist-packages (from ipython->ipython-autotime) (57.4.0)\n",
            "Requirement already satisfied: parso<0.9.0,>=0.8.0 in /usr/local/lib/python3.8/dist-packages (from jedi>=0.10->ipython->ipython-autotime) (0.8.3)\n",
            "Requirement already satisfied: six>=1.9.0 in /usr/local/lib/python3.8/dist-packages (from prompt-toolkit<2.1.0,>=2.0.0->ipython->ipython-autotime) (1.15.0)\n",
            "Requirement already satisfied: wcwidth in /usr/local/lib/python3.8/dist-packages (from prompt-toolkit<2.1.0,>=2.0.0->ipython->ipython-autotime) (0.2.5)\n",
            "Requirement already satisfied: ptyprocess>=0.5 in /usr/local/lib/python3.8/dist-packages (from pexpect->ipython->ipython-autotime) (0.7.0)\n",
            "The autotime extension is already loaded. To reload it, use:\n",
            "  %reload_ext autotime\n"
          ]
        },
        {
          "output_type": "display_data",
          "data": {
            "text/plain": [
              "<Figure size 432x288 with 1 Axes>"
            ],
            "image/png": "[encoded data removed]"
          },
          "metadata": {}
        },
        {
          "output_type": "stream",
          "name": "stdout",
          "text": [
            "Shortest path between A and E: ['A', 'C', 'D', 'E']\n",
            "time: 3.63 s (started: 2023-01-19 14:11:15 +00:00)\n"
          ]
        }
      ]
    }
  ]
}